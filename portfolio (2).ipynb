{
 "cells": [
  {
   "cell_type": "code",
   "execution_count": 14,
   "id": "57f7eae7-ac41-44c5-b97c-ca8759b44517",
   "metadata": {},
   "outputs": [
    {
     "name": "stdout",
     "output_type": "stream",
     "text": [
      "Defaulting to user installation because normal site-packages is not writeable\n",
      "Looking in links: /usr/share/pip-wheels\n",
      "Requirement already satisfied: requests in /opt/conda/envs/anaconda-panel-2023.05-py310/lib/python3.11/site-packages (2.31.0)\n",
      "Requirement already satisfied: pandas in /opt/conda/envs/anaconda-panel-2023.05-py310/lib/python3.11/site-packages (2.0.3)\n",
      "Collecting prettytable\n",
      "  Obtaining dependency information for prettytable from https://files.pythonhosted.org/packages/73/19/4bb9530512432774fdd7cb7c020851d4decbb811d95f86fd4f6a870a6d3e/prettytable-3.12.0-py3-none-any.whl.metadata\n",
      "  Downloading prettytable-3.12.0-py3-none-any.whl.metadata (30 kB)\n",
      "Requirement already satisfied: charset-normalizer<4,>=2 in /opt/conda/envs/anaconda-panel-2023.05-py310/lib/python3.11/site-packages (from requests) (2.0.4)\n",
      "Requirement already satisfied: idna<4,>=2.5 in /opt/conda/envs/anaconda-panel-2023.05-py310/lib/python3.11/site-packages (from requests) (3.4)\n",
      "Requirement already satisfied: urllib3<3,>=1.21.1 in /opt/conda/envs/anaconda-panel-2023.05-py310/lib/python3.11/site-packages (from requests) (1.26.16)\n",
      "Requirement already satisfied: certifi>=2017.4.17 in /opt/conda/envs/anaconda-panel-2023.05-py310/lib/python3.11/site-packages (from requests) (2023.7.22)\n",
      "Requirement already satisfied: python-dateutil>=2.8.2 in /opt/conda/envs/anaconda-panel-2023.05-py310/lib/python3.11/site-packages (from pandas) (2.8.2)\n",
      "Requirement already satisfied: pytz>=2020.1 in /opt/conda/envs/anaconda-panel-2023.05-py310/lib/python3.11/site-packages (from pandas) (2023.3.post1)\n",
      "Requirement already satisfied: tzdata>=2022.1 in /opt/conda/envs/anaconda-panel-2023.05-py310/lib/python3.11/site-packages (from pandas) (2023.3)\n",
      "Requirement already satisfied: numpy>=1.21.0 in /opt/conda/envs/anaconda-panel-2023.05-py310/lib/python3.11/site-packages (from pandas) (1.24.3)\n",
      "Requirement already satisfied: wcwidth in /opt/conda/envs/anaconda-panel-2023.05-py310/lib/python3.11/site-packages (from prettytable) (0.2.5)\n",
      "Requirement already satisfied: six>=1.5 in /opt/conda/envs/anaconda-panel-2023.05-py310/lib/python3.11/site-packages (from python-dateutil>=2.8.2->pandas) (1.16.0)\n",
      "Downloading prettytable-3.12.0-py3-none-any.whl (31 kB)\n",
      "Installing collected packages: prettytable\n",
      "Successfully installed prettytable-3.12.0\n",
      "Note: you may need to restart the kernel to use updated packages.\n"
     ]
    }
   ],
   "source": [
    "pip install requests pandas prettytable"
   ]
  },
  {
   "cell_type": "code",
   "execution_count": 2,
   "id": "317a649a-20bd-4919-94f1-913dcff64fcc",
   "metadata": {},
   "outputs": [
    {
     "name": "stdout",
     "output_type": "stream",
     "text": [
      "\n",
      "Stock Portfolio Tracker\n",
      "1. Add Stock\n",
      "2. Remove Stock\n",
      "3. View Portfolio\n",
      "4. Update Prices\n",
      "5. Exit\n"
     ]
    },
    {
     "name": "stdin",
     "output_type": "stream",
     "text": [
      "Enter your choice:  3\n"
     ]
    },
    {
     "name": "stdout",
     "output_type": "stream",
     "text": [
      "+--------+----------+----------------+---------------+-------------+-----------+\n",
      "| Symbol | Quantity | Purchase Price | Current Price | Total Value | Gain/Loss |\n",
      "+--------+----------+----------------+---------------+-------------+-----------+\n",
      "+--------+----------+----------------+---------------+-------------+-----------+\n",
      "\n",
      "Stock Portfolio Tracker\n",
      "1. Add Stock\n",
      "2. Remove Stock\n",
      "3. View Portfolio\n",
      "4. Update Prices\n",
      "5. Exit\n"
     ]
    },
    {
     "name": "stdin",
     "output_type": "stream",
     "text": [
      "Enter your choice:  1\n",
      "Enter stock symbol (e.g., AAPL):  HP\n",
      "Enter quantity:  35\n",
      "Enter purchase price:  230000\n"
     ]
    },
    {
     "name": "stdout",
     "output_type": "stream",
     "text": [
      "HP added successfully!\n",
      "\n",
      "Stock Portfolio Tracker\n",
      "1. Add Stock\n",
      "2. Remove Stock\n",
      "3. View Portfolio\n",
      "4. Update Prices\n",
      "5. Exit\n"
     ]
    },
    {
     "name": "stdin",
     "output_type": "stream",
     "text": [
      "Enter your choice:  3\n"
     ]
    },
    {
     "name": "stdout",
     "output_type": "stream",
     "text": [
      "+--------+----------+----------------+---------------+--------------------+------------+\n",
      "| Symbol | Quantity | Purchase Price | Current Price |    Total Value     | Gain/Loss  |\n",
      "+--------+----------+----------------+---------------+--------------------+------------+\n",
      "|   HP   |    35    |    230000.0    |     36.38     | 1273.3000000000002 | -8048726.7 |\n",
      "+--------+----------+----------------+---------------+--------------------+------------+\n",
      "\n",
      "Stock Portfolio Tracker\n",
      "1. Add Stock\n",
      "2. Remove Stock\n",
      "3. View Portfolio\n",
      "4. Update Prices\n",
      "5. Exit\n"
     ]
    },
    {
     "name": "stdin",
     "output_type": "stream",
     "text": [
      "Enter your choice:  4\n"
     ]
    },
    {
     "name": "stdout",
     "output_type": "stream",
     "text": [
      "Stock prices updated!\n",
      "\n",
      "Stock Portfolio Tracker\n",
      "1. Add Stock\n",
      "2. Remove Stock\n",
      "3. View Portfolio\n",
      "4. Update Prices\n",
      "5. Exit\n"
     ]
    },
    {
     "name": "stdin",
     "output_type": "stream",
     "text": [
      "Enter your choice:  3\n"
     ]
    },
    {
     "name": "stdout",
     "output_type": "stream",
     "text": [
      "+--------+----------+----------------+---------------+--------------------+------------+\n",
      "| Symbol | Quantity | Purchase Price | Current Price |    Total Value     | Gain/Loss  |\n",
      "+--------+----------+----------------+---------------+--------------------+------------+\n",
      "|   HP   |    35    |    230000.0    |     36.38     | 1273.3000000000002 | -8048726.7 |\n",
      "+--------+----------+----------------+---------------+--------------------+------------+\n",
      "\n",
      "Stock Portfolio Tracker\n",
      "1. Add Stock\n",
      "2. Remove Stock\n",
      "3. View Portfolio\n",
      "4. Update Prices\n",
      "5. Exit\n"
     ]
    },
    {
     "name": "stdin",
     "output_type": "stream",
     "text": [
      "Enter your choice:  5\n"
     ]
    },
    {
     "name": "stdout",
     "output_type": "stream",
     "text": [
      "Goodbye!\n"
     ]
    }
   ],
   "source": [
    "import requests\n",
    "import pandas as pd\n",
    "from prettytable import PrettyTable\n",
    "\n",
    "# API Setup\n",
    "API_KEY = \"YOUR_API_KEY\"  # Replace with your API key from Alpha Vantage\n",
    "BASE_URL = \"https://www.alphavantage.co/query\"\n",
    "\n",
    "# Initialize Portfolio\n",
    "portfolio = pd.DataFrame(columns=[\"Symbol\", \"Quantity\", \"Purchase Price\", \"Current Price\", \"Total Value\", \"Gain/Loss\"])\n",
    "\n",
    "# Function to fetch real-time stock price\n",
    "def get_stock_price(symbol):\n",
    "    params = {\n",
    "        \"function\": \"GLOBAL_QUOTE\",\n",
    "        \"symbol\": symbol,\n",
    "        \"apikey\": API_KEY\n",
    "    }\n",
    "    response = requests.get(BASE_URL, params=params)\n",
    "    data = response.json()\n",
    "    if \"Global Quote\" in data:\n",
    "        return float(data[\"Global Quote\"][\"05. price\"])\n",
    "    else:\n",
    "        print(f\"Error: Could not fetch data for {symbol}\")\n",
    "        return None\n",
    "\n",
    "# Add stock to portfolio\n",
    "def add_stock():\n",
    "    symbol = input(\"Enter stock symbol (e.g., AAPL): \").upper()\n",
    "    quantity = int(input(\"Enter quantity: \"))\n",
    "    purchase_price = float(input(\"Enter purchase price: \"))\n",
    "    current_price = get_stock_price(symbol)\n",
    "    \n",
    "    if current_price:\n",
    "        total_value = quantity * current_price\n",
    "        gain_loss = (current_price - purchase_price) * quantity\n",
    "        portfolio.loc[len(portfolio)] = [symbol, quantity, purchase_price, current_price, total_value, gain_loss]\n",
    "        print(f\"{symbol} added successfully!\")\n",
    "\n",
    "# Remove stock from portfolio\n",
    "def remove_stock():\n",
    "    symbol = input(\"Enter stock symbol to remove: \").upper()\n",
    "    global portfolio\n",
    "    portfolio = portfolio[portfolio.Symbol != symbol]\n",
    "    print(f\"{symbol} removed from portfolio.\")\n",
    "\n",
    "# View portfolio\n",
    "def view_portfolio():\n",
    "    global portfolio\n",
    "    table = PrettyTable()\n",
    "    table.field_names = portfolio.columns.tolist()\n",
    "    for _, row in portfolio.iterrows():\n",
    "        table.add_row(row.tolist())\n",
    "    print(table)\n",
    "\n",
    "# Update real-time stock prices\n",
    "def update_prices():\n",
    "    for i in portfolio.index:\n",
    "        symbol = portfolio.at[i, \"Symbol\"]\n",
    "        current_price = get_stock_price(symbol)\n",
    "        if current_price:\n",
    "            portfolio.at[i, \"Current Price\"] = current_price\n",
    "            portfolio.at[i, \"Total Value\"] = portfolio.at[i, \"Quantity\"] * current_price\n",
    "            portfolio.at[i, \"Gain/Loss\"] = (current_price - portfolio.at[i, \"Purchase Price\"]) * portfolio.at[i, \"Quantity\"]\n",
    "    print(\"Stock prices updated!\")\n",
    "\n",
    "# Main program\n",
    "def main():\n",
    "    while True:\n",
    "        print(\"\\nStock Portfolio Tracker\")\n",
    "        print(\"1. Add Stock\")\n",
    "        print(\"2. Remove Stock\")\n",
    "        print(\"3. View Portfolio\")\n",
    "        print(\"4. Update Prices\")\n",
    "        print(\"5. Exit\")\n",
    "        choice = input(\"Enter your choice: \")\n",
    "        \n",
    "        if choice == \"1\":\n",
    "            add_stock()\n",
    "        elif choice == \"2\":\n",
    "            remove_stock()\n",
    "        elif choice == \"3\":\n",
    "            view_portfolio()\n",
    "        elif choice == \"4\":\n",
    "            update_prices()\n",
    "        elif choice == \"5\":\n",
    "            print(\"Goodbye!\")\n",
    "            break\n",
    "        else:\n",
    "            print(\"Invalid choice. Please try again.\")\n",
    "\n",
    "if __name__ == \"__main__\":\n",
    "    main()\n"
   ]
  },
  {
   "cell_type": "code",
   "execution_count": null,
   "id": "51fd1517-8951-4ead-a3ac-4f9c9998a7ba",
   "metadata": {},
   "outputs": [],
   "source": []
  }
 ],
 "metadata": {
  "kernelspec": {
   "display_name": "anaconda-panel-2023.05-py310",
   "language": "python",
   "name": "conda-env-anaconda-panel-2023.05-py310-py"
  },
  "language_info": {
   "codemirror_mode": {
    "name": "ipython",
    "version": 3
   },
   "file_extension": ".py",
   "mimetype": "text/x-python",
   "name": "python",
   "nbconvert_exporter": "python",
   "pygments_lexer": "ipython3",
   "version": "3.11.5"
  }
 },
 "nbformat": 4,
 "nbformat_minor": 5
}
